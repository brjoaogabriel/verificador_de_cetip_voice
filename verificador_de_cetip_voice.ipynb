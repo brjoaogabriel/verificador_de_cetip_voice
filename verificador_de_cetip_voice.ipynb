{
 "cells": [
  {
   "cell_type": "markdown",
   "id": "26e0f442",
   "metadata": {},
   "source": [
    "# Verificador de disponibilidade de CETIP Voice\n",
    "## Criado por: João Gabriel Maciel¹\n",
    "\n",
    "## Descrição:\n",
    "### O código extrai o arquivo de títulos negociáveis da B3² e fornece uma rotina para o usuário onde ele pode digitar o código CETIP e verificar se o ativo está disponível ou não para negociação\n",
    "\n",
    "#### ¹ linkedin.com/in/joão-gabriel-maciel-288637163/\n",
    "#### ² https://www.b3.com.br/pt_br/market-data-e-indices/servicos-de-dados/market-data/consultas/balcao/titulos-negociaveis/"
   ]
  },
  {
   "cell_type": "markdown",
   "id": "1b612538",
   "metadata": {},
   "source": [
    "### Como usar:\n",
    "Inclua na pasta onde está esse arquivo:\n",
    "    - um excel com os títulos negociáveis baixados do site da B3\n",
    "    - para utilizar a verificação por arquivo em excel: um excel chamado input.xlsx com uma coluna chamada ticker"
   ]
  },
  {
   "cell_type": "markdown",
   "id": "feb818f7",
   "metadata": {},
   "source": [
    "## Importando as bibliotecas necessárias"
   ]
  },
  {
   "cell_type": "code",
   "execution_count": 5,
   "id": "48e2d002",
   "metadata": {},
   "outputs": [],
   "source": [
    "import pandas as pd\n",
    "import os"
   ]
  },
  {
   "cell_type": "markdown",
   "id": "7b36ce85",
   "metadata": {},
   "source": [
    "## Carregando o arquivo"
   ]
  },
  {
   "cell_type": "code",
   "execution_count": 6,
   "id": "5eb4aba5",
   "metadata": {},
   "outputs": [],
   "source": [
    "df = pd.read_excel('Títulos Negociáveis.xlsx', sheet_name='Títulos Negociáveis - Trader')"
   ]
  },
  {
   "cell_type": "markdown",
   "id": "82d9f99b",
   "metadata": {},
   "source": [
    "## Alterando nome das colunas"
   ]
  },
  {
   "cell_type": "code",
   "execution_count": 7,
   "id": "dfd9ff8f",
   "metadata": {},
   "outputs": [
    {
     "name": "stdout",
     "output_type": "stream",
     "text": [
      "titulos_negociaveis_plataforma_trader\n",
      "Títulos Negociáveis - Plataforma Trader\n"
     ]
    }
   ],
   "source": [
    "for col in df.columns:\n",
    "    new_col = col.replace(' ', '_').replace('á', 'a').replace('í', 'i').replace('-', '').replace('__', '_').lower()\n",
    "    print(new_col)\n",
    "    print(col)\n",
    "    df.rename(columns={f'{col}': new_col}, inplace=True)"
   ]
  },
  {
   "cell_type": "markdown",
   "id": "b1ab30f6",
   "metadata": {},
   "source": [
    "## Separando a descrição do ticker"
   ]
  },
  {
   "cell_type": "code",
   "execution_count": 8,
   "id": "7f2ea5c9",
   "metadata": {},
   "outputs": [],
   "source": [
    "df['descricao'] = df['titulos_negociaveis_plataforma_trader'].str[10:]\n",
    "df['ticker'] = df['titulos_negociaveis_plataforma_trader'].str[:10]"
   ]
  },
  {
   "cell_type": "markdown",
   "id": "d3d1b3aa",
   "metadata": {},
   "source": [
    "# Verificador\n",
    "## Informe o ticker um a um para verificar se está disponível\n",
    "#### Digite \"STOP\" para parar a rotina"
   ]
  },
  {
   "cell_type": "code",
   "execution_count": 9,
   "id": "005efeeb",
   "metadata": {},
   "outputs": [
    {
     "name": "stdout",
     "output_type": "stream",
     "text": [
      "Escreva o ticker desejado: STOP\n",
      "Comando de parada acionado!\n"
     ]
    }
   ],
   "source": [
    "continua = True\n",
    "while continua:\n",
    "    ticker_informado = input('Escreva o ticker desejado: ').strip().upper()\n",
    "    if ticker_informado == \"STOP\":\n",
    "        print(\"Comando de parada acionado!\")\n",
    "\n",
    "    else:    \n",
    "        if len(df[  df['ticker'].str.contains(f'{ticker_informado}') ]) > 0:\n",
    "            print(f\"Ativo disponível\")\n",
    "        else:\n",
    "            print(\"Ativo NÃO está disponível. Envie um e-mail para a B3 solicitando cadastro\")\n",
    "\n",
    "        print('')\n",
    "    continua = False"
   ]
  },
  {
   "cell_type": "markdown",
   "id": "5d92f160",
   "metadata": {},
   "source": [
    "# Consulta\n",
    "## Informe uma parte do ticker e encontre todos os tickers parecidos\n",
    "#### Digite \"STOP\" para parar a rotina"
   ]
  },
  {
   "cell_type": "code",
   "execution_count": 10,
   "id": "4d477327",
   "metadata": {},
   "outputs": [
    {
     "name": "stdout",
     "output_type": "stream",
     "text": [
      "Escreva o ticker desejado: STOP\n",
      "Comando de parada acionado!\n"
     ]
    }
   ],
   "source": [
    "continua = True\n",
    "while continua:\n",
    "    os.system('cls')\n",
    "    ticker_informado = input('Escreva o ticker desejado: ').strip().upper()\n",
    "    if ticker_informado == \"STOP\":\n",
    "        print(\"Comando de parada acionado!\")\n",
    "\n",
    "    else:\n",
    "        consultados = df[  df['ticker'].str.contains(f'{ticker_informado}') ]\n",
    "        if len(consultados) > 0:\n",
    "            for i in range(0, len(consultados)):\n",
    "                print(f\"- {consultados.iloc[i]['ticker']}\")\n",
    "        else:\n",
    "            print(\"Nenhum ativo foi encontrado\")\n",
    "\n",
    "        print('')\n",
    "    continua = False"
   ]
  },
  {
   "cell_type": "markdown",
   "id": "4cf44f13",
   "metadata": {},
   "source": [
    "# Consulta em Excel\n",
    "## Passe um excel com o nome \"input.xlsx\" para que a rotina informe se o ativo está disponível para negociação\n",
    "#### O nome da pasta de trabalho deve ser \"input\""
   ]
  },
  {
   "cell_type": "code",
   "execution_count": 11,
   "id": "857e78e4",
   "metadata": {},
   "outputs": [],
   "source": [
    "# Consulta em Excel\n",
    "## Passe um excel com o nome \"input.xlsx\" para que a rotina informe se o ativo está disponível para negociação\n",
    "#### O nome da pasta de trabalho deve ser \"input\"\n",
    "#### O nome do campo com os tickers deve ser \"ticker\""
   ]
  },
  {
   "cell_type": "code",
   "execution_count": 113,
   "id": "b9a42da5",
   "metadata": {},
   "outputs": [],
   "source": [
    "input = pd.read_excel('input.xlsx', sheet_name='input')"
   ]
  },
  {
   "cell_type": "code",
   "execution_count": 114,
   "id": "7e1da092",
   "metadata": {},
   "outputs": [
    {
     "name": "stderr",
     "output_type": "stream",
     "text": [
      "D:\\Anaconda\\lib\\site-packages\\pandas\\core\\indexing.py:1637: SettingWithCopyWarning: \n",
      "A value is trying to be set on a copy of a slice from a DataFrame\n",
      "\n",
      "See the caveats in the documentation: https://pandas.pydata.org/pandas-docs/stable/user_guide/indexing.html#returning-a-view-versus-a-copy\n",
      "  self._setitem_single_block(indexer, value, name)\n"
     ]
    }
   ],
   "source": [
    "input['disponivel'] = ''\n",
    "if len(input) > 0:\n",
    "    for i in range(0, len(input)):\n",
    "        ticker_procurado = input.iloc[i]['ticker']\n",
    "        input['disponivel'].iloc[i] = str(len(df[  df['ticker'].str.contains(f'{ticker_procurado}') ]) > 0)"
   ]
  },
  {
   "cell_type": "code",
   "execution_count": 115,
   "id": "9982a2ee",
   "metadata": {},
   "outputs": [],
   "source": [
    "input.to_excel('output.xlsx', index=False)"
   ]
  }
 ],
 "metadata": {
  "kernelspec": {
   "display_name": "Python 3",
   "language": "python",
   "name": "python3"
  },
  "language_info": {
   "codemirror_mode": {
    "name": "ipython",
    "version": 3
   },
   "file_extension": ".py",
   "mimetype": "text/x-python",
   "name": "python",
   "nbconvert_exporter": "python",
   "pygments_lexer": "ipython3",
   "version": "3.8.8"
  }
 },
 "nbformat": 4,
 "nbformat_minor": 5
}
